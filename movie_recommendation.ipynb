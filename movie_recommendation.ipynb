{
 "cells": [
  {
   "cell_type": "markdown",
   "source": [
    "Let's build a movie recommendation system. Before we start, let's go over at a high level what we are trying to accomplish\n",
    "and what the steps are to accomplish it.\n",
    "\n",
    "The problem: We are trying to recommend a user that has rated a couple of movies to watch other movies that other users\n",
    "SIMILAR to them enjoyed. We're basically going to use user-user collaborative filtering to show some peeps what movies \n",
    "they might want to watch next.\n",
    "\n",
    "The solution (at a high level):\n",
    "1. Convert data to a matrix\n",
    "2. Calculate similarity for users in regard to a selected user and choose a threshold. I chose the top 25 similar users.\n",
    "3. Recommend movies according to users that are most similar to the selected user"
   ],
   "metadata": {
    "collapsed": false,
    "pycharm": {
     "name": "#%% md\n"
    }
   }
  },
  {
   "cell_type": "code",
   "execution_count": 86,
   "metadata": {
    "collapsed": true,
    "pycharm": {
     "is_executing": false
    }
   },
   "outputs": [
    {
     "data": {
      "text/plain": "   userId  movieId  rating   timestamp             title  \\\n0       1        1     4.0   964982703  Toy Story (1995)   \n1       5        1     4.0   847434962  Toy Story (1995)   \n2       7        1     4.5  1106635946  Toy Story (1995)   \n3      15        1     2.5  1510577970  Toy Story (1995)   \n4      17        1     4.5  1305696483  Toy Story (1995)   \n\n                                        genres  \n0  Adventure|Animation|Children|Comedy|Fantasy  \n1  Adventure|Animation|Children|Comedy|Fantasy  \n2  Adventure|Animation|Children|Comedy|Fantasy  \n3  Adventure|Animation|Children|Comedy|Fantasy  \n4  Adventure|Animation|Children|Comedy|Fantasy  ",
      "text/html": "<div>\n<style scoped>\n    .dataframe tbody tr th:only-of-type {\n        vertical-align: middle;\n    }\n\n    .dataframe tbody tr th {\n        vertical-align: top;\n    }\n\n    .dataframe thead th {\n        text-align: right;\n    }\n</style>\n<table border=\"1\" class=\"dataframe\">\n  <thead>\n    <tr style=\"text-align: right;\">\n      <th></th>\n      <th>userId</th>\n      <th>movieId</th>\n      <th>rating</th>\n      <th>timestamp</th>\n      <th>title</th>\n      <th>genres</th>\n    </tr>\n  </thead>\n  <tbody>\n    <tr>\n      <th>0</th>\n      <td>1</td>\n      <td>1</td>\n      <td>4.0</td>\n      <td>964982703</td>\n      <td>Toy Story (1995)</td>\n      <td>Adventure|Animation|Children|Comedy|Fantasy</td>\n    </tr>\n    <tr>\n      <th>1</th>\n      <td>5</td>\n      <td>1</td>\n      <td>4.0</td>\n      <td>847434962</td>\n      <td>Toy Story (1995)</td>\n      <td>Adventure|Animation|Children|Comedy|Fantasy</td>\n    </tr>\n    <tr>\n      <th>2</th>\n      <td>7</td>\n      <td>1</td>\n      <td>4.5</td>\n      <td>1106635946</td>\n      <td>Toy Story (1995)</td>\n      <td>Adventure|Animation|Children|Comedy|Fantasy</td>\n    </tr>\n    <tr>\n      <th>3</th>\n      <td>15</td>\n      <td>1</td>\n      <td>2.5</td>\n      <td>1510577970</td>\n      <td>Toy Story (1995)</td>\n      <td>Adventure|Animation|Children|Comedy|Fantasy</td>\n    </tr>\n    <tr>\n      <th>4</th>\n      <td>17</td>\n      <td>1</td>\n      <td>4.5</td>\n      <td>1305696483</td>\n      <td>Toy Story (1995)</td>\n      <td>Adventure|Animation|Children|Comedy|Fantasy</td>\n    </tr>\n  </tbody>\n</table>\n</div>"
     },
     "metadata": {},
     "output_type": "display_data"
    }
   ],
   "source": [
    "import pandas as pd\n",
    "import numpy as np\n",
    "\n",
    "ratings = pd.read_csv('ratings.csv')\n",
    "movies = pd.read_csv('movies.csv')\n",
    "data = ratings.merge(movies, on='movieId')\n",
    "display(data.head(5))"
   ]
  },
  {
   "cell_type": "code",
   "execution_count": 90,
   "outputs": [
    {
     "data": {
      "text/plain": "       userId  movieId  rating   timestamp  \\\n9051      500     1282     5.0  1005528236   \n12628     500     2542     5.0  1005527824   \n13560     500     2700     5.0  1005528236   \n14016     500     2858     5.0  1005527724   \n14839     500     2997     5.0  1005527755   \n19271     500      176     5.0  1005527755   \n34508     500     1784     5.0  1005527784   \n34866     500     3114     5.0  1005527784   \n35431     500     4306     5.0  1005528355   \n60205     500     1747     5.0  1005528065   \n61602     500     2355     5.0  1005528301   \n63443     500     3355     5.0  1005527364   \n69963     500     1175     5.0  1005528017   \n\n                                             title  \\\n9051                               Fantasia (1940)   \n12628     Lock, Stock & Two Smoking Barrels (1998)   \n13560  South Park: Bigger, Longer and Uncut (1999)   \n14016                       American Beauty (1999)   \n14839                  Being John Malkovich (1999)   \n19271                    Living in Oblivion (1995)   \n34508                    As Good as It Gets (1997)   \n34866                           Toy Story 2 (1999)   \n35431                                 Shrek (2001)   \n60205                           Wag the Dog (1997)   \n61602                         Bug's Life, A (1998)   \n63443                       Ninth Gate, The (1999)   \n69963                          Delicatessen (1991)   \n\n                                                  genres  \n9051                  Animation|Children|Fantasy|Musical  \n12628                              Comedy|Crime|Thriller  \n13560                           Animation|Comedy|Musical  \n14016                                      Drama|Romance  \n14839                               Comedy|Drama|Fantasy  \n19271                                             Comedy  \n34508                               Comedy|Drama|Romance  \n34866        Adventure|Animation|Children|Comedy|Fantasy  \n35431  Adventure|Animation|Children|Comedy|Fantasy|Ro...  \n60205                                             Comedy  \n61602                Adventure|Animation|Children|Comedy  \n63443                    Fantasy|Horror|Mystery|Thriller  \n69963                               Comedy|Drama|Romance  ",
      "text/html": "<div>\n<style scoped>\n    .dataframe tbody tr th:only-of-type {\n        vertical-align: middle;\n    }\n\n    .dataframe tbody tr th {\n        vertical-align: top;\n    }\n\n    .dataframe thead th {\n        text-align: right;\n    }\n</style>\n<table border=\"1\" class=\"dataframe\">\n  <thead>\n    <tr style=\"text-align: right;\">\n      <th></th>\n      <th>userId</th>\n      <th>movieId</th>\n      <th>rating</th>\n      <th>timestamp</th>\n      <th>title</th>\n      <th>genres</th>\n    </tr>\n  </thead>\n  <tbody>\n    <tr>\n      <th>9051</th>\n      <td>500</td>\n      <td>1282</td>\n      <td>5.0</td>\n      <td>1005528236</td>\n      <td>Fantasia (1940)</td>\n      <td>Animation|Children|Fantasy|Musical</td>\n    </tr>\n    <tr>\n      <th>12628</th>\n      <td>500</td>\n      <td>2542</td>\n      <td>5.0</td>\n      <td>1005527824</td>\n      <td>Lock, Stock &amp; Two Smoking Barrels (1998)</td>\n      <td>Comedy|Crime|Thriller</td>\n    </tr>\n    <tr>\n      <th>13560</th>\n      <td>500</td>\n      <td>2700</td>\n      <td>5.0</td>\n      <td>1005528236</td>\n      <td>South Park: Bigger, Longer and Uncut (1999)</td>\n      <td>Animation|Comedy|Musical</td>\n    </tr>\n    <tr>\n      <th>14016</th>\n      <td>500</td>\n      <td>2858</td>\n      <td>5.0</td>\n      <td>1005527724</td>\n      <td>American Beauty (1999)</td>\n      <td>Drama|Romance</td>\n    </tr>\n    <tr>\n      <th>14839</th>\n      <td>500</td>\n      <td>2997</td>\n      <td>5.0</td>\n      <td>1005527755</td>\n      <td>Being John Malkovich (1999)</td>\n      <td>Comedy|Drama|Fantasy</td>\n    </tr>\n    <tr>\n      <th>19271</th>\n      <td>500</td>\n      <td>176</td>\n      <td>5.0</td>\n      <td>1005527755</td>\n      <td>Living in Oblivion (1995)</td>\n      <td>Comedy</td>\n    </tr>\n    <tr>\n      <th>34508</th>\n      <td>500</td>\n      <td>1784</td>\n      <td>5.0</td>\n      <td>1005527784</td>\n      <td>As Good as It Gets (1997)</td>\n      <td>Comedy|Drama|Romance</td>\n    </tr>\n    <tr>\n      <th>34866</th>\n      <td>500</td>\n      <td>3114</td>\n      <td>5.0</td>\n      <td>1005527784</td>\n      <td>Toy Story 2 (1999)</td>\n      <td>Adventure|Animation|Children|Comedy|Fantasy</td>\n    </tr>\n    <tr>\n      <th>35431</th>\n      <td>500</td>\n      <td>4306</td>\n      <td>5.0</td>\n      <td>1005528355</td>\n      <td>Shrek (2001)</td>\n      <td>Adventure|Animation|Children|Comedy|Fantasy|Ro...</td>\n    </tr>\n    <tr>\n      <th>60205</th>\n      <td>500</td>\n      <td>1747</td>\n      <td>5.0</td>\n      <td>1005528065</td>\n      <td>Wag the Dog (1997)</td>\n      <td>Comedy</td>\n    </tr>\n    <tr>\n      <th>61602</th>\n      <td>500</td>\n      <td>2355</td>\n      <td>5.0</td>\n      <td>1005528301</td>\n      <td>Bug's Life, A (1998)</td>\n      <td>Adventure|Animation|Children|Comedy</td>\n    </tr>\n    <tr>\n      <th>63443</th>\n      <td>500</td>\n      <td>3355</td>\n      <td>5.0</td>\n      <td>1005527364</td>\n      <td>Ninth Gate, The (1999)</td>\n      <td>Fantasy|Horror|Mystery|Thriller</td>\n    </tr>\n    <tr>\n      <th>69963</th>\n      <td>500</td>\n      <td>1175</td>\n      <td>5.0</td>\n      <td>1005528017</td>\n      <td>Delicatessen (1991)</td>\n      <td>Comedy|Drama|Romance</td>\n    </tr>\n  </tbody>\n</table>\n</div>"
     },
     "metadata": {},
     "output_type": "display_data"
    }
   ],
   "source": [
    "display(data[(data['userId']== 500) & (data['rating'] == 5.0)])\n",
    "def convert_to_matrix(df):\n",
    "    \"\"\" convert the dataframe to a numpy matrix \"\"\"\n",
    "    ratings = df.pivot(index = 'userId', columns ='movieId', values = 'rating').fillna(0)\n",
    "    user_id_index = {int(user_id):i for i,user_id in enumerate(sorted(df.userId.unique())) }\n",
    "    index_movie_id = {i:int(movie_id) for i,movie_id in enumerate(sorted(df.movieId.unique())) }\n",
    "    return np.array(ratings),user_id_index, index_movie_id"
   ],
   "metadata": {
    "collapsed": false,
    "pycharm": {
     "name": "#%%\n",
     "is_executing": false
    }
   }
  },
  {
   "cell_type": "code",
   "execution_count": 73,
   "outputs": [],
   "source": [
    "def similarity(user_1, user_2):\n",
    "    return np.dot(user_1, user_2) / (np.linalg.norm(user_1) * np.linalg.norm(user_2))"
   ],
   "metadata": {
    "collapsed": false,
    "pycharm": {
     "name": "#%%\n",
     "is_executing": false
    }
   }
  },
  {
   "cell_type": "code",
   "execution_count": 78,
   "outputs": [],
   "source": [
    "def select_baseline_25_users(ratings_matrix,user_id_index,current_user):\n",
    "    \"\"\" select top 25 similar users from ratings data to group new users with \"\"\"\n",
    "    similarity_rating = []\n",
    "    current_user_profile = ratings_matrix[user_id_index[current_user]]\n",
    "\n",
    "    for u_id in user_id_index.keys():\n",
    "        if current_user != u_id:\n",
    "            u_id_profile = ratings_matrix[user_id_index[u_id]]\n",
    "            similarity_rating.append((u_id,similarity(u_id_profile,current_user_profile)))\n",
    "            \n",
    "    similarity_rating.sort(key = lambda x: x[1],reverse = True)\n",
    "    return [x[0] for x in similarity_rating[0:25]]"
   ],
   "metadata": {
    "collapsed": false,
    "pycharm": {
     "name": "#%%\n",
     "is_executing": false
    }
   }
  },
  {
   "cell_type": "code",
   "execution_count": 79,
   "outputs": [],
   "source": [
    "def recommend(ratings_matrix, similar_user_ids, user_id_index, index_movie_id):\n",
    "    ### BEGIN SOLUTION\n",
    "    recommendations = set()\n",
    "    for similar_user_id in similar_user_ids:\n",
    "        similar_user_profile = ratings_matrix[user_id_index[similar_user_id]]\n",
    "        for indx, movie_rating in enumerate(similar_user_profile):\n",
    "            if movie_rating!=0.0:\n",
    "                recommendations.add(index_movie_id[indx])\n",
    "                break \n",
    "    return recommendations\n",
    "\n"
   ],
   "metadata": {
    "collapsed": false,
    "pycharm": {
     "name": "#%%\n",
     "is_executing": false
    }
   }
  },
  {
   "cell_type": "code",
   "execution_count": 82,
   "outputs": [
    {
     "name": "stdout",
     "text": [
      "   movieId                                      title  \\\n",
      "0       32  Twelve Monkeys (a.k.a. 12 Monkeys) (1995)   \n",
      "1        1                           Toy Story (1995)   \n",
      "2        2                             Jumanji (1995)   \n",
      "3        3                    Grumpier Old Men (1995)   \n",
      "4       34                                Babe (1995)   \n",
      "5     2445                      At First Sight (1999)   \n",
      "6       21                          Get Shorty (1995)   \n",
      "\n",
      "                                        genres  \n",
      "0                      Mystery|Sci-Fi|Thriller  \n",
      "1  Adventure|Animation|Children|Comedy|Fantasy  \n",
      "2                   Adventure|Children|Fantasy  \n",
      "3                               Comedy|Romance  \n",
      "4                               Children|Drama  \n",
      "5                                        Drama  \n",
      "6                        Comedy|Crime|Thriller  \n"
     ],
     "output_type": "stream"
    }
   ],
   "source": [
    "ratings_matrix, user_id_index, index_movie_id = convert_to_matrix(ratings)\n",
    "similar_users = select_baseline_25_users(ratings_matrix, user_id_index, 500)\n",
    "recommendations = list(recommend(ratings_matrix, similar_users, user_id_index, index_movie_id))\n",
    "# recommendations_df = movies[movies['movieId'].isin(list(recommendations))]\n",
    "# recommendations_df = movies.query('movieId in @recommendations')\n",
    "recommendations_df = movies.set_index('movieId').loc[recommendations].reset_index(inplace=False)\n",
    "print(recommendations_df)"
   ],
   "metadata": {
    "collapsed": false,
    "pycharm": {
     "name": "#%%\n",
     "is_executing": false
    }
   }
  },
  {
   "cell_type": "code",
   "execution_count": null,
   "outputs": [],
   "source": [
    "\n"
   ],
   "metadata": {
    "collapsed": false,
    "pycharm": {
     "name": "#%%\n"
    }
   }
  }
 ],
 "metadata": {
  "kernelspec": {
   "display_name": "Python 3",
   "language": "python",
   "name": "python3"
  },
  "language_info": {
   "codemirror_mode": {
    "name": "ipython",
    "version": 2
   },
   "file_extension": ".py",
   "mimetype": "text/x-python",
   "name": "python",
   "nbconvert_exporter": "python",
   "pygments_lexer": "ipython2",
   "version": "2.7.6"
  },
  "pycharm": {
   "stem_cell": {
    "cell_type": "raw",
    "source": [],
    "metadata": {
     "collapsed": false
    }
   }
  }
 },
 "nbformat": 4,
 "nbformat_minor": 0
}